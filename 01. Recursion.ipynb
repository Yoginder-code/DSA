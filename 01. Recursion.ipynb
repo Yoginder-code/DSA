{
 "cells": [
  {
   "cell_type": "markdown",
   "id": "13895778",
   "metadata": {},
   "source": [
    "# Recursion"
   ]
  },
  {
   "cell_type": "markdown",
   "id": "37072044",
   "metadata": {},
   "source": [
    "###### Printing n! but without giving the base case and it will give us the error\n",
    "\n",
    "#def fact(n):\n",
    "    #return n * fact(n-1)\n",
    "\n",
    "#n = int(input())\n",
    "#fact(n)"
   ]
  },
  {
   "cell_type": "code",
   "execution_count": 1,
   "id": "442636d1",
   "metadata": {},
   "outputs": [
    {
     "name": "stdout",
     "output_type": "stream",
     "text": [
      "2\n"
     ]
    },
    {
     "data": {
      "text/plain": [
       "2"
      ]
     },
     "execution_count": 1,
     "metadata": {},
     "output_type": "execute_result"
    }
   ],
   "source": [
    "# Giving the base case now\n",
    "def fact(n):\n",
    "    if n == 0:\n",
    "        return 1 # 0!=1\n",
    "    return n * fact(n-1)\n",
    "n = int(input())\n",
    "fact()"
   ]
  },
  {
   "cell_type": "code",
   "execution_count": 3,
   "id": "a35e4f75",
   "metadata": {},
   "outputs": [
    {
     "name": "stdout",
     "output_type": "stream",
     "text": [
      "3\n"
     ]
    },
    {
     "data": {
      "text/plain": [
       "6"
      ]
     },
     "execution_count": 3,
     "metadata": {},
     "output_type": "execute_result"
    }
   ],
   "source": [
    "# Making the function for the sum of n natural numbers\n",
    "\n",
    "def sum_n(n):\n",
    "    if n == 0:\n",
    "        return 0\n",
    "    small_output = sum_n(n-1)\n",
    "    output = small_output + n\n",
    "    print(output)\n",
    "    return output\n",
    "n = int(input())\n",
    "sum_n(n)"
   ]
  },
  {
   "cell_type": "code",
   "execution_count": 3,
   "id": "b4d9b80c",
   "metadata": {},
   "outputs": [
    {
     "name": "stdout",
     "output_type": "stream",
     "text": [
      "5\n",
      "1\n",
      "2\n",
      "3\n",
      "4\n",
      "5\n"
     ]
    }
   ],
   "source": [
    "# Printing numbers from 1 to N\n",
    "def print_1_to_n(n):\n",
    "    if n == 0:\n",
    "        return # if n=0 then return nothing\n",
    "    print_1_to_n(n-1)\n",
    "    print(n)\n",
    "    return\n",
    "\n",
    "n = int(input())\n",
    "print_1_to_n(n)"
   ]
  },
  {
   "cell_type": "code",
   "execution_count": 6,
   "id": "efc7916f",
   "metadata": {},
   "outputs": [
    {
     "name": "stdout",
     "output_type": "stream",
     "text": [
      "5\n",
      "1\n",
      "2\n",
      "3\n",
      "4\n",
      "5\n"
     ]
    }
   ],
   "source": [
    "# Printing numbers from n to 1\n",
    "def print_n_to_1(n):\n",
    "    if n == 0:\n",
    "        return # if n=0 then return nothing\n",
    "    print(n)\n",
    "    print_1_to_n(n-1)\n",
    "    return\n",
    "\n",
    "n = int(input())\n",
    "print_1_to_n(n)"
   ]
  },
  {
   "cell_type": "markdown",
   "id": "269c35db",
   "metadata": {},
   "source": [
    "##### Fibonacci number : Print number from 1 to n !"
   ]
  },
  {
   "cell_type": "code",
   "execution_count": 15,
   "id": "00d2bdef",
   "metadata": {},
   "outputs": [
    {
     "name": "stdout",
     "output_type": "stream",
     "text": [
      "3\n"
     ]
    }
   ],
   "source": [
    "def fib(n):\n",
    "    if n == 1 or n == 2:\n",
    "        return 1\n",
    "    fib_n_1 = fib(n-1)\n",
    "    fib_n_2 = fib(n-2)\n",
    "    output = fib_n_1 + fib_n_2\n",
    "    return output\n",
    "n = 4\n",
    "print(fib(n))\n"
   ]
  },
  {
   "cell_type": "markdown",
   "id": "885f55f1",
   "metadata": {},
   "source": [
    "##### Changing the recursion depth in python to avoid error"
   ]
  },
  {
   "cell_type": "code",
   "execution_count": 26,
   "id": "0dc7da5b",
   "metadata": {},
   "outputs": [
    {
     "name": "stdout",
     "output_type": "stream",
     "text": [
      "1\n"
     ]
    },
    {
     "data": {
      "text/plain": [
       "1"
      ]
     },
     "execution_count": 26,
     "metadata": {},
     "output_type": "execute_result"
    }
   ],
   "source": [
    "# finding the n! and passing n=3000\n",
    "def fact(n):\n",
    "    if n == 0:\n",
    "        return 1 # 0!=1\n",
    "    return n * fact(n-1)\n",
    "n = int(input())\n",
    "fact(n)"
   ]
  },
  {
   "cell_type": "code",
   "execution_count": 23,
   "id": "fc5dbc91",
   "metadata": {},
   "outputs": [],
   "source": [
    "# now changing the recursion depth using sys library\n",
    "import sys\n",
    "sys.setrecursionlimit(4000)"
   ]
  },
  {
   "cell_type": "code",
   "execution_count": 27,
   "id": "0580c980",
   "metadata": {},
   "outputs": [
    {
     "name": "stdout",
     "output_type": "stream",
     "text": [
      "1\n"
     ]
    },
    {
     "data": {
      "text/plain": [
       "1"
      ]
     },
     "execution_count": 27,
     "metadata": {},
     "output_type": "execute_result"
    }
   ],
   "source": [
    "# Giving the base case now\n",
    "def fact(n):\n",
    "    if n == 0:\n",
    "        return 1 # 0!=1\n",
    "    return n * fact(n-1)\n",
    "n = int(input())\n",
    "fact(n)"
   ]
  },
  {
   "cell_type": "markdown",
   "id": "b23d83f4",
   "metadata": {},
   "source": [
    "##### Check whether the list is sorted or not"
   ]
  },
  {
   "cell_type": "code",
   "execution_count": 11,
   "id": "a6e321fe",
   "metadata": {},
   "outputs": [
    {
     "data": {
      "text/plain": [
       "False"
      ]
     },
     "execution_count": 11,
     "metadata": {},
     "output_type": "execute_result"
    }
   ],
   "source": [
    "# creating the function\n",
    "def isSorted(a):\n",
    "    l = len(a)\n",
    "    if l == 0  or l == 1: # base case\n",
    "        return True\n",
    "    \n",
    "    if a[0] > a[1]:\n",
    "        return False\n",
    "    \n",
    "    smallerList = a[1:] #slicing the list and copying the remaining a everytime we do recursion step\n",
    "    isSmallerListSorted = isSorted(smallerList) # taking the assumption\n",
    "    \n",
    "    if isSmallerListSorted:\n",
    "        return True\n",
    "    else:\n",
    "        return False\n",
    "    \n",
    "    \n",
    "# using the above function\n",
    "a = [1,2,3,4,5,6,7]\n",
    "isSorted(a)"
   ]
  },
  {
   "cell_type": "markdown",
   "id": "097b907d",
   "metadata": {},
   "source": [
    "##### Another way of checking whether list is sorted or not but doing without copying"
   ]
  },
  {
   "cell_type": "code",
   "execution_count": 45,
   "id": "22603b44",
   "metadata": {},
   "outputs": [
    {
     "data": {
      "text/plain": [
       "False"
      ]
     },
     "execution_count": 45,
     "metadata": {},
     "output_type": "execute_result"
    }
   ],
   "source": [
    "def isSortedBetter(a, si):\n",
    "    if si == l or si == l - 1:\n",
    "        return True\n",
    "    if a[si] > a[si + 1]:\n",
    "        return False\n",
    "    isSmallerPartSorted = isSortedBetter(a, si+1)\n",
    "    return isSmallerPartSorted\n",
    "\n",
    "# using the above function\n",
    "a = [1,2,3,45,5,6,7]\n",
    "isSorted(a)"
   ]
  },
  {
   "cell_type": "markdown",
   "id": "05e1bc72",
   "metadata": {},
   "source": [
    "##### Printing the sum of elements in an array:"
   ]
  },
  {
   "cell_type": "code",
   "execution_count": 18,
   "id": "6fce1d77",
   "metadata": {},
   "outputs": [],
   "source": [
    "def sum_arr(a):\n",
    "    l = len(a)\n",
    "    if l == 0 :\n",
    "        return 0\n",
    "    s_output = sum_arr(a[1:])\n",
    "    output = s_output + l\n",
    "    return output"
   ]
  },
  {
   "cell_type": "code",
   "execution_count": 19,
   "id": "f9649c42",
   "metadata": {},
   "outputs": [
    {
     "data": {
      "text/plain": [
       "28"
      ]
     },
     "execution_count": 19,
     "metadata": {},
     "output_type": "execute_result"
    }
   ],
   "source": [
    "a = [1,2,3,4,5,6,7]\n",
    "sum_arr(a)"
   ]
  },
  {
   "cell_type": "markdown",
   "id": "22bc4339",
   "metadata": {},
   "source": [
    "##### Finding the first index of a number:\n",
    "###### 1. Using copy method\n"
   ]
  },
  {
   "cell_type": "code",
   "execution_count": 57,
   "id": "37775e9c",
   "metadata": {},
   "outputs": [
    {
     "data": {
      "text/plain": [
       "4"
      ]
     },
     "execution_count": 57,
     "metadata": {},
     "output_type": "execute_result"
    }
   ],
   "source": [
    "def firstIndex(a, x):\n",
    "    l = len(a)\n",
    "    if l == 0:\n",
    "        return -1\n",
    "    if a[0] == x:\n",
    "        return 0\n",
    "    \n",
    "    smallerList = a[1:] # slicing method and copying the index in smallerList variable\n",
    "    smallerListOutput = firstIndex(smallerList ,x)\n",
    "    \n",
    "    if smallerListOutput == -1: # that is x is  not present in the list\n",
    "        return -1\n",
    "    else:\n",
    "        return smallerListOutput + 1\n",
    "    \n",
    "# using the function\n",
    "a = [1,2,3,4,7,5,6,7]\n",
    "firstIndex(a, 7)"
   ]
  },
  {
   "cell_type": "markdown",
   "id": "a4575a14",
   "metadata": {},
   "source": [
    "###### 2. Using the starting index(si) method"
   ]
  },
  {
   "cell_type": "code",
   "execution_count": 51,
   "id": "bdac5bc4",
   "metadata": {},
   "outputs": [
    {
     "data": {
      "text/plain": [
       "4"
      ]
     },
     "execution_count": 51,
     "metadata": {},
     "output_type": "execute_result"
    }
   ],
   "source": [
    "def firstIndexB(a, x, si):\n",
    "    l = len(a)\n",
    "    if si == l:\n",
    "        return -1\n",
    "    if a[si] == x:\n",
    "        return si\n",
    "    \n",
    "    smallerListOutput = firstIndexB(a, x, si+1)\n",
    "    return smallerListOutput\n",
    "\n",
    "# using the above function\n",
    "a = [1,2,3,4,7,5,6,7]\n",
    "firstIndexB(a, 7, 0) # taking si=0"
   ]
  },
  {
   "cell_type": "code",
   "execution_count": null,
   "id": "79cc5fbf",
   "metadata": {},
   "outputs": [],
   "source": []
  },
  {
   "cell_type": "markdown",
   "id": "85ede6ab",
   "metadata": {},
   "source": [
    "##### Finding the Last index of a number:\n",
    "###### 1. Using copy method"
   ]
  },
  {
   "cell_type": "code",
   "execution_count": 53,
   "id": "83f5567c",
   "metadata": {},
   "outputs": [
    {
     "data": {
      "text/plain": [
       "7"
      ]
     },
     "execution_count": 53,
     "metadata": {},
     "output_type": "execute_result"
    }
   ],
   "source": [
    "def lastIndex(a, x):\n",
    "    l = len(a)\n",
    "    if l == 0:\n",
    "        return -1\n",
    "    \n",
    "    smallerOutput = a[1:]\n",
    "    smallerListOutput = lastIndex(smallerOutput, x)\n",
    "    \n",
    "    if smallerListOutput != -1:\n",
    "        return smallerListOutput + 1\n",
    "    else:\n",
    "        if a[0] == x:\n",
    "            return 0\n",
    "        else:\n",
    "            return -1\n",
    "a = [1,2,3,4,7,5,6,7]\n",
    "lastIndex(a, 7)      "
   ]
  },
  {
   "cell_type": "markdown",
   "id": "921f3712",
   "metadata": {},
   "source": [
    "###### 2. Using the starting index(si) method"
   ]
  },
  {
   "cell_type": "code",
   "execution_count": 56,
   "id": "af43c3b1",
   "metadata": {},
   "outputs": [
    {
     "data": {
      "text/plain": [
       "7"
      ]
     },
     "execution_count": 56,
     "metadata": {},
     "output_type": "execute_result"
    }
   ],
   "source": [
    "def lastIndexB(a, x, si):\n",
    "    l = len(a)\n",
    "    if si == l:\n",
    "        return -1\n",
    "     \n",
    "    smallerListOutput = lastIndexB(a, x, si+1)\n",
    "    if smallerListOutput == x:\n",
    "        return smallerListOutput\n",
    "    else:\n",
    "        if a[si] == x:\n",
    "            return si\n",
    "        else:\n",
    "            return -1\n",
    "        \n",
    "# using the function\n",
    "a = [1,2,3,4,7,5,6,7]\n",
    "lastIndexB(a, 7, 0)  # taking si=0"
   ]
  },
  {
   "cell_type": "code",
   "execution_count": null,
   "id": "65a7e0ce",
   "metadata": {},
   "outputs": [],
   "source": [
    "SELECT first_name,last_name,employee_id,job_id\n",
    "FROM employees\n",
    "WHERE department_id IN (\n",
    "                        SELECT department_id\n",
    "                        FROM departments\n",
    "                        WHERE location_id IN (\n",
    "                                                SELECT location_id\n",
    "                                                FROM locations\n",
    "                                                WHERE state_province = 'Seattle'\n",
    "                        )\n",
    ")"
   ]
  }
 ],
 "metadata": {
  "kernelspec": {
   "display_name": "Python 3 (ipykernel)",
   "language": "python",
   "name": "python3"
  },
  "language_info": {
   "codemirror_mode": {
    "name": "ipython",
    "version": 3
   },
   "file_extension": ".py",
   "mimetype": "text/x-python",
   "name": "python",
   "nbconvert_exporter": "python",
   "pygments_lexer": "ipython3",
   "version": "3.10.5"
  }
 },
 "nbformat": 4,
 "nbformat_minor": 5
}
