{
 "cells": [
  {
   "cell_type": "markdown",
   "id": "d47aef21",
   "metadata": {},
   "source": [
    "## Recursion with strings"
   ]
  },
  {
   "cell_type": "markdown",
   "id": "60757f16",
   "metadata": {},
   "source": [
    "##### Creating a function to replace \"a\" with \"b\""
   ]
  },
  {
   "cell_type": "code",
   "execution_count": 9,
   "id": "52467cdd",
   "metadata": {},
   "outputs": [
    {
     "name": "stdout",
     "output_type": "stream",
     "text": [
      "bbcds\n"
     ]
    }
   ],
   "source": [
    "\n",
    "def replaceChar(s, a, b):\n",
    "    if len(s) == 0:\n",
    "        return s\n",
    "    \n",
    "    smallOutput = replaceChar(s[1:],a,b)\n",
    "    if s[0] == a:\n",
    "        return b + smallOutput\n",
    "    else:\n",
    "        return s[0] + smallOutput\n",
    "\n",
    "# Using the above function\n",
    "print(replaceChar(\"abcds\",\"a\",\"b\"))"
   ]
  },
  {
   "cell_type": "markdown",
   "id": "5920f8bc",
   "metadata": {},
   "source": [
    "##### Replacing \"pi\" with \"3.14\" :"
   ]
  },
  {
   "cell_type": "code",
   "execution_count": 11,
   "id": "23eafab0",
   "metadata": {},
   "outputs": [
    {
     "data": {
      "text/plain": [
       "'3.14af3.14asca3.143.143.143.14afs'"
      ]
     },
     "execution_count": 11,
     "metadata": {},
     "output_type": "execute_result"
    }
   ],
   "source": [
    "def replacePi(s):\n",
    "    if len(s) == 0  or len(s) == 1: # done with our base case\n",
    "        return s\n",
    "    if s[0] == \"p\" and s[1] == \"i\":\n",
    "        smallOutput = replacePi(s[2:])\n",
    "        return \"3.14\" + smallOutput\n",
    "    else:\n",
    "        smallOutput = replacePi(s[1:])\n",
    "        return s[0] + smallOutput\n",
    "\n",
    "# Using the above function\n",
    "replacePi(\"piafpiascapipipipiafs\")"
   ]
  },
  {
   "cell_type": "markdown",
   "id": "6cccd540",
   "metadata": {},
   "source": [
    "### Binary Search"
   ]
  },
  {
   "cell_type": "markdown",
   "id": "440e9009",
   "metadata": {},
   "source": [
    "##### Finding the position of eleme nt x using binary search"
   ]
  },
  {
   "cell_type": "code",
   "execution_count": 18,
   "id": "bb423af8",
   "metadata": {},
   "outputs": [
    {
     "name": "stdout",
     "output_type": "stream",
     "text": [
      "-1\n"
     ]
    }
   ],
   "source": [
    "# creating the binary search function\n",
    "def binarySearch(a, x, si, ei):\n",
    "    if si > ei:\n",
    "        return -1\n",
    "    mid = (si + ei)//2\n",
    "    if a[mid] > x:\n",
    "        return binarySearch(a, x, si, mid-1)\n",
    "    elif a[mid] == x:\n",
    "        return mid\n",
    "    else:\n",
    "        return binarySearch(a, x, mid + 1, ei)\n",
    "    \n",
    "# using the above function\n",
    "print(binarySearch([1,2,3,5,6,7,8,10,11,15],77,0,9))"
   ]
  },
  {
   "cell_type": "markdown",
   "id": "a90790d3",
   "metadata": {},
   "source": [
    "## Merge sort algorithm"
   ]
  },
  {
   "cell_type": "markdown",
   "id": "63e9cad1",
   "metadata": {},
   "source": [
    "##### Creating a function to sort a list"
   ]
  },
  {
   "cell_type": "code",
   "execution_count": 11,
   "id": "0e12ce99",
   "metadata": {},
   "outputs": [],
   "source": [
    "def merge(a1,a2,a):\n",
    "    i = 0\n",
    "    j = 0\n",
    "    k = 0\n",
    "    while i < len(a1) and j < len(a2):\n",
    "        if (a1[i] < a2[j]):\n",
    "            a[k] = a1[i]\n",
    "            k = k+1\n",
    "            i = i+1\n",
    "        else:\n",
    "            a[k] = a2[j]\n",
    "            k = k+1\n",
    "            j = j+1\n",
    "    while i < len(a1):\n",
    "        a[k] = a1[i]\n",
    "        k = k+1\n",
    "        i = i+1\n",
    "    while j < len(a2):\n",
    "        a[k] = a2[j]\n",
    "        k = k+1\n",
    "        j = j+1\n",
    "        "
   ]
  },
  {
   "cell_type": "code",
   "execution_count": 12,
   "id": "8fbf243e",
   "metadata": {},
   "outputs": [
    {
     "data": {
      "text/plain": [
       "[1, 3, 4, 5, 7, 9, 10]"
      ]
     },
     "execution_count": 12,
     "metadata": {},
     "output_type": "execute_result"
    }
   ],
   "source": [
    "def merge_sort(a):\n",
    "    if len(a) == 0  or len(a) == 1:\n",
    "        return # this is our base case\n",
    "    mid = len(a)//2\n",
    "    \n",
    "    a1 = a[0:mid]\n",
    "    a2 = a[mid:]\n",
    "    \n",
    "    merge_sort(a1)\n",
    "    merge_sort(a2)\n",
    "    \n",
    "    merge(a1,a2,a)\n",
    "    \n",
    "# running the both functions\n",
    "a = [10,5,3,1,7,9,4]\n",
    "merge_sort(a)\n",
    "a"
   ]
  },
  {
   "cell_type": "markdown",
   "id": "2785a6d7",
   "metadata": {},
   "source": [
    "## Quick Sort algorithm"
   ]
  },
  {
   "cell_type": "markdown",
   "id": "ad09cf99",
   "metadata": {},
   "source": [
    "##### Sorting the list using quick sort:"
   ]
  },
  {
   "cell_type": "code",
   "execution_count": 17,
   "id": "7d422af3",
   "metadata": {},
   "outputs": [],
   "source": [
    "# making the partitioj function:\n",
    "def partition(a, si, ei):\n",
    "    pivot = a[si]\n",
    "    c = 0\n",
    "    for i in range(si, ei+1):\n",
    "        if a[i] < pivot:\n",
    "            c = c+1\n",
    "        # and we also need to swap the position of the elements\n",
    "    a[si+c],a[si] = a[si], a[si+c]\n",
    "        \n",
    "    pivot_index = si+c\n",
    "    i = si\n",
    "    j = ei\n",
    "    while i < j:\n",
    "        if a[i] < pivot:\n",
    "                i = i+1\n",
    "        elif a[j] > pivot:\n",
    "                j = j-1\n",
    "        else:\n",
    "                a[i], a[j] = a[j], a[i]\n",
    "                \n",
    "    return pivot_index"
   ]
  },
  {
   "cell_type": "code",
   "execution_count": 18,
   "id": "2a2320e4",
   "metadata": {},
   "outputs": [
    {
     "data": {
      "text/plain": [
       "[1, 2, 3, 4, 5, 6, 7, 8, 9, 10]"
      ]
     },
     "execution_count": 18,
     "metadata": {},
     "output_type": "execute_result"
    }
   ],
   "source": [
    "def quick_sort(a, si, ei):\n",
    "    if si >= ei:\n",
    "        return\n",
    "    \n",
    "    #calling the partition function\n",
    "    pivot_index = partition(a, si, ei)\n",
    "    quick_sort(a, si, pivot_index)\n",
    "    quick_sort(a, pivot_index + 1, ei)\n",
    "    \n",
    "# using both the functions\n",
    "a = [6,10,9,8,7,1,3,5,4,2]\n",
    "quick_sort(a,0, len(a) - 1)\n",
    "a"
   ]
  },
  {
   "cell_type": "markdown",
   "id": "4db96b1d",
   "metadata": {},
   "source": [
    "## Problem = Tower of hanoi :"
   ]
  },
  {
   "cell_type": "code",
   "execution_count": 24,
   "id": "cd8fcc73",
   "metadata": {},
   "outputs": [],
   "source": [
    "def tower_hanoi(n, a, b, c):\n",
    "    if n == 1:\n",
    "        print(\"Move first disk from \",a,\" to the \",c )\n",
    "        return\n",
    "    \n",
    "    # using recursion now\n",
    "    tower_hanoi(n-1,a,b,c)\n",
    "    print(\"Move \",n,\"th disk from \", a,\" to \",c)\n",
    "    tower_hanoi(n-1,b,a,c)"
   ]
  },
  {
   "cell_type": "code",
   "execution_count": 25,
   "id": "a6b538ca",
   "metadata": {},
   "outputs": [
    {
     "name": "stdout",
     "output_type": "stream",
     "text": [
      "Move first disk from  a  to the  c\n",
      "Move  2 th disk from  a  to  c\n",
      "Move first disk from  b  to the  c\n",
      "Move  3 th disk from  a  to  c\n",
      "Move first disk from  b  to the  c\n",
      "Move  2 th disk from  b  to  c\n",
      "Move first disk from  a  to the  c\n"
     ]
    }
   ],
   "source": [
    "# using the above function\n",
    "tower_hanoi(3,\"a\",\"b\",\"c\")"
   ]
  },
  {
   "cell_type": "markdown",
   "id": "dda29018",
   "metadata": {},
   "source": [
    "## Problem = Geometric sum"
   ]
  },
  {
   "cell_type": "code",
   "execution_count": 33,
   "id": "809bf507",
   "metadata": {},
   "outputs": [],
   "source": [
    "def geo_sum(k):\n",
    "   \n",
    "    if k == 0:\n",
    "        return 1\n",
    "    small_output = geo_sum(k-1)\n",
    "    output = small_output + k\n",
    "    return output"
   ]
  },
  {
   "cell_type": "code",
   "execution_count": 34,
   "id": "914b826c",
   "metadata": {},
   "outputs": [
    {
     "ename": "RecursionError",
     "evalue": "maximum recursion depth exceeded in comparison",
     "output_type": "error",
     "traceback": [
      "\u001b[1;31m---------------------------------------------------------------------------\u001b[0m",
      "\u001b[1;31mRecursionError\u001b[0m                            Traceback (most recent call last)",
      "\u001b[1;32m<ipython-input-34-f81c357de6c0>\u001b[0m in \u001b[0;36m<module>\u001b[1;34m\u001b[0m\n\u001b[1;32m----> 1\u001b[1;33m \u001b[0mgeo_sum\u001b[0m\u001b[1;33m(\u001b[0m\u001b[1;36m1\u001b[0m\u001b[1;33m/\u001b[0m\u001b[1;36m2\u001b[0m\u001b[1;33m**\u001b[0m\u001b[1;36m0\u001b[0m \u001b[1;33m+\u001b[0m \u001b[1;36m1\u001b[0m\u001b[1;33m/\u001b[0m\u001b[1;36m2\u001b[0m\u001b[1;33m**\u001b[0m\u001b[1;36m2\u001b[0m\u001b[1;33m)\u001b[0m\u001b[1;33m\u001b[0m\u001b[1;33m\u001b[0m\u001b[0m\n\u001b[0m",
      "\u001b[1;32m<ipython-input-33-a49f0bc7923c>\u001b[0m in \u001b[0;36mgeo_sum\u001b[1;34m(k)\u001b[0m\n\u001b[0;32m      3\u001b[0m     \u001b[1;32mif\u001b[0m \u001b[0mk\u001b[0m \u001b[1;33m==\u001b[0m \u001b[1;36m0\u001b[0m\u001b[1;33m:\u001b[0m\u001b[1;33m\u001b[0m\u001b[1;33m\u001b[0m\u001b[0m\n\u001b[0;32m      4\u001b[0m         \u001b[1;32mreturn\u001b[0m \u001b[1;36m1\u001b[0m\u001b[1;33m\u001b[0m\u001b[1;33m\u001b[0m\u001b[0m\n\u001b[1;32m----> 5\u001b[1;33m     \u001b[0msmall_output\u001b[0m \u001b[1;33m=\u001b[0m \u001b[0mgeo_sum\u001b[0m\u001b[1;33m(\u001b[0m\u001b[0mk\u001b[0m\u001b[1;33m-\u001b[0m\u001b[1;36m1\u001b[0m\u001b[1;33m)\u001b[0m\u001b[1;33m\u001b[0m\u001b[1;33m\u001b[0m\u001b[0m\n\u001b[0m\u001b[0;32m      6\u001b[0m     \u001b[0moutput\u001b[0m \u001b[1;33m=\u001b[0m \u001b[0msmall_output\u001b[0m \u001b[1;33m+\u001b[0m \u001b[0mk\u001b[0m\u001b[1;33m\u001b[0m\u001b[1;33m\u001b[0m\u001b[0m\n\u001b[0;32m      7\u001b[0m     \u001b[1;32mreturn\u001b[0m \u001b[0moutput\u001b[0m\u001b[1;33m\u001b[0m\u001b[1;33m\u001b[0m\u001b[0m\n",
      "... last 1 frames repeated, from the frame below ...\n",
      "\u001b[1;32m<ipython-input-33-a49f0bc7923c>\u001b[0m in \u001b[0;36mgeo_sum\u001b[1;34m(k)\u001b[0m\n\u001b[0;32m      3\u001b[0m     \u001b[1;32mif\u001b[0m \u001b[0mk\u001b[0m \u001b[1;33m==\u001b[0m \u001b[1;36m0\u001b[0m\u001b[1;33m:\u001b[0m\u001b[1;33m\u001b[0m\u001b[1;33m\u001b[0m\u001b[0m\n\u001b[0;32m      4\u001b[0m         \u001b[1;32mreturn\u001b[0m \u001b[1;36m1\u001b[0m\u001b[1;33m\u001b[0m\u001b[1;33m\u001b[0m\u001b[0m\n\u001b[1;32m----> 5\u001b[1;33m     \u001b[0msmall_output\u001b[0m \u001b[1;33m=\u001b[0m \u001b[0mgeo_sum\u001b[0m\u001b[1;33m(\u001b[0m\u001b[0mk\u001b[0m\u001b[1;33m-\u001b[0m\u001b[1;36m1\u001b[0m\u001b[1;33m)\u001b[0m\u001b[1;33m\u001b[0m\u001b[1;33m\u001b[0m\u001b[0m\n\u001b[0m\u001b[0;32m      6\u001b[0m     \u001b[0moutput\u001b[0m \u001b[1;33m=\u001b[0m \u001b[0msmall_output\u001b[0m \u001b[1;33m+\u001b[0m \u001b[0mk\u001b[0m\u001b[1;33m\u001b[0m\u001b[1;33m\u001b[0m\u001b[0m\n\u001b[0;32m      7\u001b[0m     \u001b[1;32mreturn\u001b[0m \u001b[0moutput\u001b[0m\u001b[1;33m\u001b[0m\u001b[1;33m\u001b[0m\u001b[0m\n",
      "\u001b[1;31mRecursionError\u001b[0m: maximum recursion depth exceeded in comparison"
     ]
    }
   ],
   "source": [
    "geo_sum(1/2**0 + 1/2**2)"
   ]
  },
  {
   "cell_type": "markdown",
   "id": "f7eda70b",
   "metadata": {},
   "source": [
    "## Problem = Check Palindrome(recursive):"
   ]
  },
  {
   "cell_type": "code",
   "execution_count": 6,
   "id": "b3ffa0f7",
   "metadata": {},
   "outputs": [],
   "source": [
    "def palindrome(a):\n",
    "    if len(a) != 1:\n",
    "        a1 = palindrome(a[1:])+a[0] # slicing the first character\n",
    "        print(\"a1=\",a1,\"a=\",a)\n",
    "        return a1\n",
    "    else:\n",
    "        return a\n"
   ]
  },
  {
   "cell_type": "code",
   "execution_count": 7,
   "id": "0d118f94",
   "metadata": {},
   "outputs": [
    {
     "name": "stdout",
     "output_type": "stream",
     "text": [
      "a1= xo a= ox\n",
      "a1= xon a= nox\n",
      "a1= xonn a= nnox\n",
      "a1= xonne a= ennox\n",
      "a1= xonnel a= lennox\n",
      "The string is not palindrome\n"
     ]
    }
   ],
   "source": [
    "a=\"lennox\"\n",
    "if a == palindrome(a):\n",
    "    print(\"The string is palindrome\")\n",
    "else:\n",
    "    print(\"The string is not palindrome\")"
   ]
  },
  {
   "cell_type": "markdown",
   "id": "1f069364",
   "metadata": {},
   "source": [
    "## Problem = Multiplication(recursion)"
   ]
  },
  {
   "cell_type": "code",
   "execution_count": 11,
   "id": "cc2e891d",
   "metadata": {},
   "outputs": [],
   "source": [
    "def multi(m,n):\n",
    "    if n == 0:\n",
    "        return 0\n",
    "    \n",
    "    a = multi(m,(n-1))\n",
    "    output = a + m\n",
    "    return output"
   ]
  },
  {
   "cell_type": "code",
   "execution_count": 12,
   "id": "1e6e9e94",
   "metadata": {},
   "outputs": [
    {
     "data": {
      "text/plain": [
       "15"
      ]
     },
     "execution_count": 12,
     "metadata": {},
     "output_type": "execute_result"
    }
   ],
   "source": [
    "multi(3,5)"
   ]
  },
  {
   "cell_type": "markdown",
   "id": "677f73cf",
   "metadata": {},
   "source": [
    "## Problem = Count zeroes"
   ]
  },
  {
   "cell_type": "code",
   "execution_count": 25,
   "id": "d90b325b",
   "metadata": {},
   "outputs": [],
   "source": [
    "def count_zeroes(n):\n",
    "    if n == 0:\n",
    "        return 0\n",
    "    \n",
    "    if n % 10 == 0:\n",
    "        return 1 + count_zeroes((n)//10)\n",
    "    else:\n",
    "        return count_zeroes((n)//10)\n",
    "    "
   ]
  },
  {
   "cell_type": "code",
   "execution_count": 28,
   "id": "86f79020",
   "metadata": {},
   "outputs": [
    {
     "data": {
      "text/plain": [
       "6"
      ]
     },
     "execution_count": 28,
     "metadata": {},
     "output_type": "execute_result"
    }
   ],
   "source": [
    "count_zeroes(10122002000)"
   ]
  },
  {
   "cell_type": "markdown",
   "id": "e1f1d34e",
   "metadata": {},
   "source": [
    "## Problem = Convert string into integer"
   ]
  },
  {
   "cell_type": "code",
   "execution_count": 1,
   "id": "845a383b",
   "metadata": {},
   "outputs": [],
   "source": [
    "def stringToInt(str):\n",
    " \n",
    "    # If the number represented as a string\n",
    "    # contains only a single digit\n",
    "    # then returns its value\n",
    "    if (len(str) == 1):\n",
    "        return ord(str[0]) - ord('0');\n",
    " \n",
    "    # Recursive call for the sub-string\n",
    "    # starting at the second character\n",
    "    y = stringToInt(str[1:]);\n",
    " \n",
    "    # First digit of the number\n",
    "    x = ord(str[0]) - ord('0');\n",
    "     \n",
    "    # First digit multiplied by the\n",
    "    # appropriate power of 10 and then\n",
    "    # add the recursive result\n",
    "    # For example, xy = ((x * 10) + y)\n",
    "    x = x * (10**(len(str) - 1)) + y;\n",
    "    return int(x);"
   ]
  },
  {
   "cell_type": "markdown",
   "id": "e4d195c1",
   "metadata": {},
   "source": [
    "## Problem = Insert \"*\" between a pair"
   ]
  },
  {
   "cell_type": "code",
   "execution_count": 30,
   "id": "a399e142",
   "metadata": {},
   "outputs": [],
   "source": [
    "def star(input, output, i = 0):\n",
    "    # setting up our output\n",
    "    output = output + input[i]\n",
    "    \n",
    "    # setting up our base case\n",
    "    if i == len(input) - 1:\n",
    "        print(output)\n",
    "        return\n",
    "    # recursive call\n",
    "    if input[i] == input[i+1]:\n",
    "        output = output + \"*\"\n",
    "    star(input, output, i+1)"
   ]
  },
  {
   "cell_type": "code",
   "execution_count": 34,
   "id": "20a5db5f",
   "metadata": {},
   "outputs": [
    {
     "name": "stdout",
     "output_type": "stream",
     "text": [
      "sexy\n"
     ]
    }
   ],
   "source": [
    "input = \"sexy\"\n",
    "output = \"\"\n",
    "star(input, output)"
   ]
  },
  {
   "cell_type": "markdown",
   "id": "98ed01ab",
   "metadata": {},
   "source": [
    "## Problem = Staircase"
   ]
  },
  {
   "cell_type": "code",
   "execution_count": 35,
   "id": "1f171d60",
   "metadata": {},
   "outputs": [],
   "source": [
    "def staircase(n):\n",
    "    if n == 1 or n == 0:\n",
    "        return 1\n",
    "    elif n == 2:\n",
    "        return 2\n",
    "    else:\n",
    "        return staircase(n-1) + staircase(n-2) + staircase(n-3)"
   ]
  },
  {
   "cell_type": "code",
   "execution_count": 36,
   "id": "b723d356",
   "metadata": {},
   "outputs": [
    {
     "data": {
      "text/plain": [
       "7"
      ]
     },
     "execution_count": 36,
     "metadata": {},
     "output_type": "execute_result"
    }
   ],
   "source": [
    "staircase(4)"
   ]
  },
  {
   "cell_type": "code",
   "execution_count": null,
   "id": "c01d6d51",
   "metadata": {},
   "outputs": [],
   "source": []
  }
 ],
 "metadata": {
  "kernelspec": {
   "display_name": "Python 3 (ipykernel)",
   "language": "python",
   "name": "python3"
  },
  "language_info": {
   "codemirror_mode": {
    "name": "ipython",
    "version": 3
   },
   "file_extension": ".py",
   "mimetype": "text/x-python",
   "name": "python",
   "nbconvert_exporter": "python",
   "pygments_lexer": "ipython3",
   "version": "3.10.5"
  }
 },
 "nbformat": 4,
 "nbformat_minor": 5
}
